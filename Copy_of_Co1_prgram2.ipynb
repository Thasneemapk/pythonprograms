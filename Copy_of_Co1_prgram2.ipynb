{
  "nbformat": 4,
  "nbformat_minor": 0,
  "metadata": {
    "colab": {
      "name": "Copy of Co1_prgram2",
      "provenance": [],
      "collapsed_sections": [],
      "authorship_tag": "ABX9TyMAKDNP3ENwZwSV06heOFiE",
      "include_colab_link": true
    },
    "kernelspec": {
      "name": "python3",
      "display_name": "Python 3"
    }
  },
  "cells": [
    {
      "cell_type": "markdown",
      "metadata": {
        "id": "view-in-github",
        "colab_type": "text"
      },
      "source": [
        "<a href=\"https://colab.research.google.com/github/Thasneemapk/pythonprograms/blob/main/Copy_of_Co1_prgram2.ipynb\" target=\"_parent\"><img src=\"https://colab.research.google.com/assets/colab-badge.svg\" alt=\"Open In Colab\"/></a>"
      ]
    },
    {
      "cell_type": "code",
      "metadata": {
        "colab": {
          "base_uri": "https://localhost:8080/"
        },
        "id": "JNH8z8qnLVp2",
        "outputId": "3c0621c8-c546-4d1e-ced5-000122330792"
      },
      "source": [
        " \n",
        "f=int(input(\"enter ayear\"))\n",
        "c=int(input(\"enter the current year\"))\n",
        "for i in range(c,f):\n",
        "  if(i%4==0 or i%100==0 or i%400==0):\n",
        "   print(i)\n",
        "  i=i+1"
      ],
      "execution_count": null,
      "outputs": [
        {
          "output_type": "stream",
          "text": [
            "enter ayear2050\n",
            "enter the current year2020\n",
            "2020\n",
            "2024\n",
            "2028\n",
            "2032\n",
            "2036\n",
            "2040\n",
            "2044\n",
            "2048\n"
          ],
          "name": "stdout"
        }
      ]
    }
  ]
}